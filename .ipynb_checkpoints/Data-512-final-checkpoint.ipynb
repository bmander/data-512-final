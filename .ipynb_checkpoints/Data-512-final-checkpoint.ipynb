{
 "cells": [
  {
   "cell_type": "code",
   "execution_count": null,
   "metadata": {},
   "outputs": [],
   "source": []
  },
  {
   "cell_type": "markdown",
   "metadata": {},
   "source": [
    "$\\Large Motivation:$\n",
    "\n",
    "In this project I am trying to understnd how COVID-19 is affecting different races, age groups, at the federal level.\n",
    "\n",
    "\n",
    "We are in the midst of a pandemic and considering that this class is \"human centered data science\", I thought to find a reliable source of covid related dataset and analyse it. I am specifically interested to see how death related to COVID-19 is affecting people of color using this data. There are other interesting questions that can be answered with thid dataset. The results could be informative for public health practices. I want to learn more about how this disease affecting people with different demographics. \n",
    "\n",
    "$\\Large Dataset:$\n",
    "\n",
    "I was able to find the deaths involving coronavirus disease 2019 (COVID-19) by month of death, region, age, place of death, and race and Hispanic origin: May-August dataset from data.gov:\n",
    "\n",
    "URL: https://data.cdc.gov/api/views/w4jm-mysj/rows.csv?accessType=DOWNLOAD\n",
    "\n",
    "All the data in this dataset is unidentified and there is no way to track back this information. This data is available through a goverment website. The source should be acknowldeged when this data is used for analysis. \n",
    "\n",
    "$\\Large Unknowns:$\n",
    "\n",
    "I tried to think through about the scope of the project when I was searching for the data. I tried to find a data source that is interesting, related to human, and results can be meaningful and applicable to the current situation. However, I also tried to keep in mind that it should be something that is doable in the timeline of this class. I have not started working with the data yet but I think it should be doable.  "
   ]
  },
  {
   "cell_type": "code",
   "execution_count": null,
   "metadata": {},
   "outputs": [],
   "source": []
  }
 ],
 "metadata": {
  "kernelspec": {
   "display_name": "Python 3",
   "language": "python",
   "name": "python3"
  },
  "language_info": {
   "codemirror_mode": {
    "name": "ipython",
    "version": 3
   },
   "file_extension": ".py",
   "mimetype": "text/x-python",
   "name": "python",
   "nbconvert_exporter": "python",
   "pygments_lexer": "ipython3",
   "version": "3.7.0"
  }
 },
 "nbformat": 4,
 "nbformat_minor": 4
}
