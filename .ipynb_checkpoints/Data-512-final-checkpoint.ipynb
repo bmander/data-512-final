{
 "cells": [
  {
   "cell_type": "markdown",
   "metadata": {},
   "source": [
    "$\\Large Motivation:$\n",
    "\n",
    "We are living in a critical era as the number of the new COVID_19 cases and death due to this lethal virus is increasing worldwide and in the US. Now COVID-19 is the third cause of death in the US. Mask wearing is recommended as a preventative measures to subside the spread of this virus. However, sixteen states have very limited mask wearing requirements and one state (South Dacota) has absolutely no requirement. In this project I am trying to evaluate the effect of mask policy on COVID-19 cases. To do so I will focus on the data from two neighbor states (Georgia and Alabama) with different policies to minimize the effect of other factors (e.g. weather, demographics).\n",
    "\n",
    "$\\Large Dataset:$\n",
    "\n",
    "The \"United States COVID-19 Cases and Deaths by State over Time\" dataset provides detail daily data on the cases and death of COVID-19 for all the states from January to November:\n",
    "\n",
    "URL: https://healthdata.gov/dataset/united-states-covid-19-cases-and-deaths-state-over-time\n",
    "\n",
    "All the data in this dataset is unidentified and there is no way to track back this information. This data is available through a government website. The source should be acknowledged when this data is used for analysis. \n",
    "\n",
    "$\\Large Source:$\n",
    "\n",
    "https://healthdata.gov/harvest_source/datacdcgov\n",
    "\n",
    "$\\Large License:$\n",
    "\n",
    "http://opendefinition.org/licenses/odc-odbl/\n",
    "\n",
    "$\\Large Unknowns:$\n",
    "\n",
    "I tried to think through about the scope of the project when I was searching for the data. I tried to find a data source that is interesting, related to human, and results can be meaningful and applicable to the current situation. However, I also tried to keep in mind that it should be something that is doable in the timeline of this class. I have not started working with the data yet but I think it should be doable. \n",
    "\n",
    "$\\Large Question$ $\\Large and$ $\\Large Hypothesis:$\n",
    "\n",
    "1- What is the trend of new cases from July 17th to November 11th for Georgia and for Alamaba\n",
    "Hypothesis: The hypothesis is that we will see the steeper line for Georgia compared to Alabama since Georgia does not have any mask policy but Alabama had the policy in place since July 17th.\n",
    "\n",
    "\n",
    "2- Is the accumulative number of the new cases more in Georgia compared to Alabama from July 17th to November 11th \n",
    "Hypothesis: The accumulative number of cases are significantly higher in Georgia compared to Alabama\n",
    "\n",
    "3- Is the accumulative number of the death more in Georgia compared to Alabama from July 17th to November 11th \n",
    "Hypothesis: The accumulative number of death are significantly higher in Georgia compared to Alabama\n",
    "\n",
    "\n",
    "$ \\Large Background/$ $\\Large Related$ $\\Large Work$\n",
    "\n",
    "In this project I am trying to understand the impact of the mask wearing policies on new cases and death of COVID-19. So far this virus has had a huge toll all around the world and in the US. Per a WHO report by November 8th, the cumulative number of cases worldwide has been 3,690,495 and the cumulative death has been 1,248,373 (https://www.who.int/publications/m/item/weekly-epidemiological-update---10-november-2020). In the US this toll has been 10,690,665 and 243,580 per CDC report (https://covid.cdc.gov/covid-data-tracker/#cases_casesper100klast7days). This is while mask wearing and social distancing have been offered as the most effective prevention measures (https://www.cdc.gov/coronavirus/2019-ncov/prevent-getting-sick/cloth-face-cover-guidance.html). In this work I am trying to evaluate the effectiveness of the mask policy on new cases and death toll. I chose Georgia and Alabama to investigate the mask wearing policies. Georgia never passed any policy to mandate mask wearing while Alabama mandated mask wearing from July 17th (https://masks4all.co/what-states-require-masks/). These two states are neighbors which helps to control for the differences in weather in addition to other factors such as ethnicity, education that are very similar for two states. Per CDC minorities are at higher risk of COVID-19 (https://www.cdc.gov/coronavirus/2019-ncov/community/health-equity/race-ethnicity.html) and thus it is important to make the comparison of mask mandating policies between states that are similar/close in ethnicity distribution.  \n",
    "Demographic, education, sex distribution data for the two states can be found through following sources:\n",
    "Alabama: https://www.census.gov/quickfacts/AL\n",
    "Georgia: https://www.census.gov/quickfacts/GA\n",
    "\n",
    "\n",
    "$\\Large Methodology: $\n",
    "\n",
    "1- For question 1 I will graph the number of cases per day from July 17th to November 11th for Georgia and Alabama.\n",
    "It gives me the ability to descriptively see the difference in number of new cases over time in these two states from the time that mask wearing got mandatory in Alabama.\n",
    "\n",
    "2- T-test of the cumulative number of cases from July 17th to November 11th to investigate whether there is a significant difference in number of new cases in these two states.\n",
    "\n",
    "3- T-test of the cumulative number of deaths from July 17th to November 11th to investigate whether there is a significant difference in number of new cases in these two states.\n",
    "\n"
   ]
  }
 ],
 "metadata": {
  "kernelspec": {
   "display_name": "Python 3",
   "language": "python",
   "name": "python3"
  },
  "language_info": {
   "codemirror_mode": {
    "name": "ipython",
    "version": 3
   },
   "file_extension": ".py",
   "mimetype": "text/x-python",
   "name": "python",
   "nbconvert_exporter": "python",
   "pygments_lexer": "ipython3",
   "version": "3.7.0"
  }
 },
 "nbformat": 4,
 "nbformat_minor": 4
}
